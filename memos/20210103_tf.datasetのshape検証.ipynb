{
 "metadata": {
  "language_info": {
   "codemirror_mode": {
    "name": "ipython",
    "version": 3
   },
   "file_extension": ".py",
   "mimetype": "text/x-python",
   "name": "python",
   "nbconvert_exporter": "python",
   "pygments_lexer": "ipython3",
   "version": "3.7.9-final"
  },
  "orig_nbformat": 2,
  "kernelspec": {
   "name": "python3",
   "display_name": "Python 3",
   "language": "python"
  }
 },
 "nbformat": 4,
 "nbformat_minor": 2,
 "cells": [
  {
   "cell_type": "code",
   "execution_count": 1,
   "metadata": {},
   "outputs": [
    {
     "output_type": "stream",
     "name": "stdout",
     "text": [
      "MNIST fetched. Number of training data = 66500 , test data = 3500\n"
     ]
    }
   ],
   "source": [
    "'''MINSTからデータをフェッチ 今回必要なのは`X_train`のみ'''\n",
    "import numpy as np\n",
    "from sklearn.datasets import fetch_openml\n",
    "from sklearn.model_selection import train_test_split\n",
    "from sklearn.utils import check_random_state\n",
    "\n",
    "def fetch_mnist():\n",
    "    random_state = check_random_state(0)\n",
    "\n",
    "    X, y = fetch_openml('mnist_784', version=1, return_X_y=True)\n",
    "\n",
    "    pmt = random_state.permutation(X.shape[0])\n",
    "    X = X[pmt]\n",
    "    y = y[pmt]\n",
    "\n",
    "    X_train,X_test,y_train,y_test = train_test_split(\n",
    "        X,y,test_size=0.05\n",
    "    )\n",
    "\n",
    "    print(\n",
    "        \"MNIST fetched. Number of training data = {0} , test data = {1}\"\n",
    "        .format(len(X_train),len(X_test))\n",
    "    )\n",
    "\n",
    "    return X_train.reshape(-1,28,28)\n",
    "\n",
    "X_train = fetch_mnist()"
   ]
  },
  {
   "cell_type": "code",
   "execution_count": 3,
   "metadata": {},
   "outputs": [
    {
     "output_type": "stream",
     "name": "stdout",
     "text": [
      "<TensorSliceDataset shapes: (28, 28), types: tf.float64>\n"
     ]
    }
   ],
   "source": [
    "'''何の前処理もしないでデータセットを作る'''\n",
    "import tensorflow as tf\n",
    "\n",
    "dataset = tf.data.Dataset.from_tensor_slices(X_train)\n",
    "print(dataset)"
   ]
  },
  {
   "cell_type": "code",
   "execution_count": 28,
   "metadata": {},
   "outputs": [
    {
     "output_type": "stream",
     "name": "stdout",
     "text": [
      "<TensorSliceDataset shapes: (28, 28), types: tf.float32>\n<MapDataset shapes: (<unknown>,), types: (tf.float32,)>\n"
     ]
    }
   ],
   "source": [
    "'''前処理を入れる'''\n",
    "def gause_noize(X):\n",
    "    return X + (np.random.randn(28,28) * 20 )\n",
    "\n",
    "@tf.function\n",
    "def tf_aug(X):\n",
    "   return tf.py_function(gause_noize,inp=[X],Tout=[tf.float32])\n",
    "   \n",
    "\n",
    "dataset = tf.data.Dataset.from_tensor_slices(X_train.astype(np.float32))\n",
    "print(dataset)\n",
    "dataset = dataset.map(tf_aug)\n",
    "print(dataset)"
   ]
  },
  {
   "cell_type": "code",
   "execution_count": null,
   "metadata": {},
   "outputs": [],
   "source": []
  }
 ]
}