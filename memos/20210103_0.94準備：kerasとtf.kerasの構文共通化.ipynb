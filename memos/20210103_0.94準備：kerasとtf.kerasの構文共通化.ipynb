{
 "metadata": {
  "language_info": {
   "codemirror_mode": {
    "name": "ipython",
    "version": 3
   },
   "file_extension": ".py",
   "mimetype": "text/x-python",
   "name": "python",
   "nbconvert_exporter": "python",
   "pygments_lexer": "ipython3",
   "version": "3.7.9-final"
  },
  "orig_nbformat": 2,
  "kernelspec": {
   "name": "python3",
   "display_name": "Python 3",
   "language": "python"
  }
 },
 "nbformat": 4,
 "nbformat_minor": 2,
 "cells": [
  {
   "source": [
    "## やりたいこと\n",
    "0.94に向けて、`keras`と`tf.keras`の構文を共通化する\n",
    "\n",
    "---"
   ],
   "cell_type": "markdown",
   "metadata": {}
  },
  {
   "cell_type": "code",
   "execution_count": 1,
   "metadata": {},
   "outputs": [
    {
     "output_type": "stream",
     "name": "stdout",
     "text": [
      "Use tensorflow\nTensorflow version:2.3.0\ntf.keras version:2.4.0\n"
     ]
    }
   ],
   "source": [
    "'''Pythonのバージョンを判定して、単体`keras`か`tf.keras`をインポートする'''\n",
    "import sys\n",
    "\n",
    "if float(str(sys.version_info[0])+\".\"+str(sys.version_info[1])) >= 3.8:\n",
    "    flag_tf = False\n",
    "    import keras\n",
    "    print(\"Since your python version is 3.8 or later, tensorflow is not available in the Anaconda environment.\\nUse Keras.\")\n",
    "    print(\"keras version:{0}\".format(keras.__version__))\n",
    "else:\n",
    "    flag_tf = True\n",
    "    import tensorflow as tf\n",
    "    from tensorflow import keras    #あえて`keras`をimportして、tensorflowが閊えない環境でも共通の構文でモデル定義ができるようにする\n",
    "    print(\"Use tensorflow\")\n",
    "    print (\"Tensorflow version:{0}\".format(tf.__version__))\n",
    "    print (\"tf.keras version:{0}\".format(tf.keras.__version__))"
   ]
  },
  {
   "cell_type": "code",
   "execution_count": 1,
   "metadata": {},
   "outputs": [
    {
     "output_type": "stream",
     "name": "stdout",
     "text": [
      "keras version:2.4.3\n"
     ]
    }
   ],
   "source": [
    "'''明示的に単体kerasをインポートする 上の構文とは排他的に実行すること'''\n",
    "import keras\n",
    "print(\"keras version:{0}\".format(keras.__version__))"
   ]
  },
  {
   "cell_type": "code",
   "execution_count": 2,
   "metadata": {},
   "outputs": [
    {
     "output_type": "stream",
     "name": "stdout",
     "text": [
      "Model: \"autoencoder\"\n_________________________________________________________________\nLayer (type)                 Output Shape              Param #   \n=================================================================\nInput (Flatten)              (None, 784)               0         \n_________________________________________________________________\nAdd_Gaussiannoize (GaussianN (None, 784)               0         \n_________________________________________________________________\nDence_1 (Dense)              (None, 392)               307720    \n_________________________________________________________________\nBatch_norm_1 (BatchNormaliza (None, 392)               1568      \n_________________________________________________________________\nDence_2 (Dense)              (None, 196)               77028     \n_________________________________________________________________\nBatch_norm_2 (BatchNormaliza (None, 196)               784       \n_________________________________________________________________\nDence_3 (Dense)              (None, 392)               77224     \n_________________________________________________________________\nBatch_norm_3 (BatchNormaliza (None, 392)               1568      \n_________________________________________________________________\nDence_4 (Dense)              (None, 784)               308112    \n_________________________________________________________________\nBatch_norm_4 (BatchNormaliza (None, 784)               3136      \n_________________________________________________________________\nOutput (Reshape)             (None, 28, 28)            0         \n=================================================================\nTotal params: 777,140\nTrainable params: 773,612\nNon-trainable params: 3,528\n_________________________________________________________________\n"
     ]
    }
   ],
   "source": [
    "'''適当にモデルを定義する MNISTを想定した28*29のノイズ除去オートエンコーダ'''\n",
    "model = keras.models.Sequential([\n",
    "    keras.layers.Flatten(input_shape = [28,28],name = \"Input\"),\n",
    "    keras.layers.GaussianNoise(0.2,name = \"Add_Gaussiannoize\"),\n",
    "    keras.layers.Dense(\n",
    "        392,\n",
    "        activation = \"selu\",\n",
    "        kernel_initializer=\"he_normal\",\n",
    "        name = \"Dence_1\"\n",
    "    ),\n",
    "    keras.layers.BatchNormalization(name = \"Batch_norm_1\"),\n",
    "    keras.layers.Dense(\n",
    "        196,\n",
    "        activation = \"selu\",\n",
    "        kernel_initializer=\"he_normal\",\n",
    "        name = \"Dence_2\"\n",
    "    ),\n",
    "    keras.layers.BatchNormalization(name = \"Batch_norm_2\"),\n",
    "    keras.layers.Dense(\n",
    "        392,\n",
    "        activation = \"selu\",\n",
    "        kernel_initializer=\"he_normal\",\n",
    "        name = \"Dence_3\"\n",
    "    ),\n",
    "    keras.layers.BatchNormalization(name = \"Batch_norm_3\"),\n",
    "    keras.layers.Dense(\n",
    "        784,\n",
    "        activation = \"sigmoid\",\n",
    "        kernel_initializer=\"he_normal\",\n",
    "        name = \"Dence_4\"\n",
    "    ),\n",
    "    keras.layers.BatchNormalization(name = \"Batch_norm_4\"),\n",
    "    keras.layers.Reshape([28,28],name = \"Output\")\n",
    "],name = \"autoencoder\")\n",
    "\n",
    "model.compile(\n",
    "    optimizer=keras.optimizers.Nadam(),\n",
    "            loss='binary_crossentropy',\n",
    "            metrics=['accuracy']\n",
    ")\n",
    "\n",
    "model.summary()"
   ]
  },
  {
   "source": [
    "---\n",
    "\n",
    "## わかったこと\n",
    "`from tensorflow import keras`とすることで、`import keras`した時と共通の構文が使える"
   ],
   "cell_type": "markdown",
   "metadata": {}
  },
  {
   "cell_type": "code",
   "execution_count": null,
   "metadata": {},
   "outputs": [],
   "source": []
  }
 ]
}