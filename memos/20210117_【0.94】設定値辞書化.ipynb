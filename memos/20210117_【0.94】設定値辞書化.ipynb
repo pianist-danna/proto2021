{
 "metadata": {
  "language_info": {
   "codemirror_mode": {
    "name": "ipython",
    "version": 3
   },
   "file_extension": ".py",
   "mimetype": "text/x-python",
   "name": "python",
   "nbconvert_exporter": "python",
   "pygments_lexer": "ipython3",
   "version": "3.7.9-final"
  },
  "orig_nbformat": 2,
  "kernelspec": {
   "name": "python3",
   "display_name": "Python 3",
   "language": "python"
  }
 },
 "nbformat": 4,
 "nbformat_minor": 2,
 "cells": [
  {
   "source": [
    "## やりたいこと\n",
    "設定値の辞書化  \n",
    "→メイン変数が乱立しすぎて非常に見通しが悪い&名前空間が混乱しやすいので設定値は一つの辞書にまとめる  \n",
    "(セッティングモードも辞書だけでやり取りできるようになるため実装が容易になるメリットもある)"
   ],
   "cell_type": "markdown",
   "metadata": {}
  },
  {
   "cell_type": "code",
   "execution_count": 7,
   "metadata": {},
   "outputs": [
    {
     "output_type": "stream",
     "name": "stdout",
     "text": [
      "C:\\Users\\amane\\OneDrive\\python\\proto2021\\bin\\init_test\n"
     ]
    }
   ],
   "source": [
    "import sys\n",
    "import os\n",
    "import configparser\n",
    "import json\n",
    "import pyaudio\n",
    "\n",
    "os.chdir(\"C:\\\\Users\\\\amane\\\\OneDrive\\\\python\\\\proto2021\\\\bin\")\n",
    "if os.path.exists(\".\\\\init_test\"):\n",
    "    pass\n",
    "else:\n",
    "    os.mkdir(\".\\\\init_test\")\n",
    "    print(\"test directory created.\")\n",
    "\n",
    "os.chdir(\".\\\\init_test\")\n",
    "base_dir = os.getcwd() #os.path.dirname(__file__) の代理\n",
    "print(base_dir)\n"
   ]
  },
  {
   "source": [
    "---\n",
    "デフォルト値も辞書で定義する"
   ],
   "cell_type": "markdown",
   "metadata": {}
  },
  {
   "cell_type": "code",
   "execution_count": 8,
   "metadata": {},
   "outputs": [],
   "source": [
    "#初期値の定義\n",
    "cfg = {\n",
    "    \"br\" : 8,\n",
    "    \"sr\" : 22050,\n",
    "    \"r_wait\" : 5,\n",
    "    \"r_len\" : 3,\n",
    "    \"a_idx\" : None,\n",
    "    \"disp_spg\" : False,\n",
    "\n",
    "    \"axis_freq\" : None,\n",
    "    \"axis_tme\" : None,\n",
    "    \"aug_amt\" : 512,\n",
    "\n",
    "    \"exp_ver\" : 0.999,\n",
    "    \"model_pca\" : \"PCAmodel\",       #PCAモデルのファイル名\n",
    "    \"model_keras\" : \"keras\",        #kerasのモデルフォルダ\n",
    "    \"model_tf_keras\" : \"tf_keras\",  #tf.kerasのモデルフォルダ\n",
    "\n",
    "    \"data_dir\" : \"waves\",           #集音データの保管フォルダ\n",
    "    \"model_dir\" : \"models\",         #モデルファイルの保管フォルダ\n",
    "    \"log_dir\" : \"logs\",             #tensorboardのログファイル保管フォルダ\n",
    "\n",
    "}"
   ]
  },
  {
   "source": [
    "---\n",
    "\n",
    "`Init_boot`クラスの中でも設定値は変数化せずに辞書と直接やり取りさせる (`base_dir`だけはグローバル変数との比較のために変数化)  \n",
    "将来的に設定値が増えても初期辞書定義とゲッター/セッターへの追記のみで済む (`return`や関数呼び出しの変数順序を気にしなくてよくなる)"
   ],
   "cell_type": "markdown",
   "metadata": {}
  },
  {
   "cell_type": "code",
   "execution_count": 9,
   "metadata": {},
   "outputs": [],
   "source": [
    "class init_boot():\n",
    "\n",
    "    def __init__(self,cfg):\n",
    "        self.cfg = cfg\n",
    "        self.base_dir = base_dir\n",
    "\n",
    "        #パス関連の初期値を相対パス化\n",
    "        self.cfg[\"data_dir\"] = os.path.join(\".\\\\\",self.cfg[\"data_dir\"])\n",
    "        self.cfg[\"model_dir\"] = os.path.join(\".\\\\\",self.cfg[\"model_dir\"])\n",
    "        self.cfg[\"log_dir\"] = os.path.join(\".\\\\\",self.cfg[\"log_dir\"])\n",
    "        self.cfg[\"model_keras\"] = os.path.join(\n",
    "            self.cfg[\"model_dir\"],\n",
    "            self.cfg[\"model_keras\"]\n",
    "        )\n",
    "        self.cfg[\"model_tf_keras\"] = os.path.join(\n",
    "            self.cfg[\"model_dir\"],\n",
    "            self.cfg[\"model_tf_keras\"]\n",
    "        )\n",
    "\n",
    "        #PCAモデルファイル初期値生成\n",
    "        self.cfg[\"model_pca\"] = os.path.join(\n",
    "            \"proto2021_094\" #os.path.splitext(os.path.basename(__file__))[0]\n",
    "            + \"_\" + self.cfg[\"model_pca\"] + \".dat\"\n",
    "        )\n",
    "\n",
    "        #インスタンスの生成\n",
    "        self.pa = pyaudio.PyAudio()\n",
    "        self.cp = configparser.ConfigParser()\n",
    "\n",
    "\n",
    "        \"\"\"フォルダの生成\"\"\"\n",
    "    def  elem_gen_folder(self,target_dir):\n",
    "        if os.path.exists(target_dir):\n",
    "            pass\n",
    "        else:\n",
    "            os.mkdir(target_dir)\n",
    "            print(\"Created a directory:{0}\".format(target_dir))\n",
    "\n",
    "    #辞書からiniファイルの内容をセットする\n",
    "    def elem_set_ini(self):\n",
    "        self.cp[\"General\"] = {\n",
    "            \"base_dir\" : self.base_dir,\n",
    "            \"data_dir\" : self.cfg[\"data_dir\"],\n",
    "            \"model_dir\" : self.cfg[\"model_dir\"],\n",
    "            \"log_dir\" : self.cfg[\"log_dir\"]\n",
    "        }\n",
    "\n",
    "        self.cp[\"Rec_param\"] = {\n",
    "            \"br\" : self.cfg[\"br\"],\n",
    "            \"sr\" : self.cfg[\"sr\"],\n",
    "            \"r_wait\" : self.cfg[\"r_wait\"],\n",
    "            \"r_len\" : self.cfg[\"r_len\"],\n",
    "            \"disp_spg\" : self.cfg[\"disp_spg\"]\n",
    "        }\n",
    "\n",
    "        if self.cfg[\"a_idx\"] == None:\n",
    "            self.cp[\"Rec_param\"][\"a_idx\"] = \"\"\n",
    "        else:\n",
    "            self.cp[\"Rec_param\"][\"a_idx\"] = str(self.cfg[\"a_idx\"])\n",
    "\n",
    "        self.cp[\"Train_param\"] = {\n",
    "            \"aug_amt\" : self.cfg[\"aug_amt\"],\n",
    "            \"exp_ver\" : self.cfg[\"exp_ver\"],\n",
    "            \"model_pca\" : self.cfg[\"model_pca\"],\n",
    "            \"model_keras\" : self.cfg[\"model_keras\"],\n",
    "            \"model_tf_keras\" : self.cfg[\"model_tf_keras\"]\n",
    "        }\n",
    "\n",
    "        if self.cfg[\"axis_freq\"] == None:\n",
    "            self.cp[\"Train_param\"][\"axis_freq\"] = \"\"\n",
    "        else:\n",
    "            self.cp[\"Train_param\"][\"axis_freq\"] = self.cfg[\"axis_freq\"]\n",
    "\n",
    "        if self.cfg[\"axis_tme\"] == None:\n",
    "            self.cp[\"Train_param\"][\"axis_tme\"] = \"\"\n",
    "        else:\n",
    "            self.cp[\"Train_param\"][\"axis_tme\"] = self.cfg[\"axis_tme\"]\n",
    "\n",
    "    \"\"\"iniファイルへの保存\"\"\"\n",
    "    def elem_save_ini(self):\n",
    "        with open(\n",
    "            \"proto2021_094\" + \".ini\",\"w\") as cfgfile:\n",
    "            self.cp.write(cfgfile)\n",
    "        print (\"Saved setting parameters.\")\n",
    "\n",
    "    \"\"\"iniファイルのロード\"\"\"\n",
    "    def elem_load_ini(self):\n",
    "        self.cp.read(\n",
    "            os.path.join(\n",
    "                \"./\",\"proto2021_094\" + \".ini\"\n",
    "            )\n",
    "        )\n",
    "        print (\"Loded initial setting parameters.\")\n",
    "\n",
    "    #iniファイルから設定値を読み出し辞書に格納\n",
    "    def elem_get_ini(self):\n",
    "\n",
    "        #読み出し\n",
    "        self.cfg[\"data_dir\"] = self.cp.get(\"General\",\"data_dir\")\n",
    "        self.cfg[\"model_dir\"] = self.cp.get(\"General\",\"model_dir\")\n",
    "        self.cfg[\"log_dir\"] = self.cp.get(\"General\",\"log_dir\")\n",
    "\n",
    "        self.cfg[\"br\"] = self.cp.getint(\"Rec_param\",\"br\")\n",
    "        self.cfg[\"sr\"] = self.cp.getint(\"Rec_param\",\"sr\")\n",
    "        self.cfg[\"r_wait\"] = self.cp.getint(\"Rec_param\",\"r_wait\")\n",
    "        self.cfg[\"r_len\"] = self.cp.getint(\"Rec_param\",\"r_len\")\n",
    "        self.cfg[\"disp_spg\"] = self.cp.getboolean(\"Rec_param\",\"disp_spg\")\n",
    "\n",
    "        if self.cp.get(\"Rec_param\",\"a_idx\") == \"\":\n",
    "            self.cfg[\"a_idx\"] = None\n",
    "        else:\n",
    "            self.cfg[\"a_idx\"] = int(self.cp.getint(\"Rec_param\",\"a_idx\"))\n",
    "\n",
    "        self.cfg[\"aug_amt\"] = self.cp.getint(\"Train_param\",\"aug_amt\")\n",
    "        self.cfg[\"exp_ver\"] = self.cp.getfloat(\"Train_param\",\"exp_ver\")\n",
    "        self.cfg[\"model_pca\"] = self.cp.get(\"Train_param\",\"model_pca\")\n",
    "        self.cfg[\"model_keras\"] = self.cp.get(\"Train_param\",\"model_keras\")\n",
    "        self.cfg[\"model_tf_keras\"] = self.cp.get(\"Train_param\",\"model_tf_keras\")\n",
    "\n",
    "        if self.cp.get(\"Train_param\",\"axis_freq\") == \"\":\n",
    "            self.cfg[\"axis_freq\"] = None\n",
    "        else:\n",
    "            self.cfg[\"axis_freq\"] = json.loads(self.cp.get(\"Train_param\",\"axis_freq\"))\n",
    "\n",
    "        if self.cp.get(\"Train_param\",\"axis_tme\") == \"\":\n",
    "            self.cfg[\"axis_tme\"] = None\n",
    "        else:\n",
    "            self.cfg[\"axis_tme\"] = json.loads(self.cp.get(\"Train_param\",\"axis_tme\"))\n",
    "        \n",
    "    \"\"\"オーディオインデックスの定義\"\"\"\n",
    "    def elem_a_idx(self):\n",
    "        print(\"***List of available audio devices:***\")\n",
    "        for i in range(self.pa.get_device_count()):\n",
    "            print(i,self.pa.get_device_info_by_index(i).get(\"name\"),sep = \" - \")\n",
    "        x = int(input(\"Select Audio device Index No.\"))\n",
    "        print(\"***Selected audio device #{0}.***\".format(x))\n",
    "        return x\n",
    "\n",
    "    #起動処理\n",
    "    def proc_boot(self):\n",
    "        #iniファイルの有無判定\n",
    "        if os.path.exists(os.path.join(\"./\",\"proto2021_094\" + \".ini\")):\n",
    "            #iniファイルが存在すればロード\n",
    "            self.elem_load_ini()\n",
    "            #前回起動時とカレントディレクトリを比較\n",
    "            if self.cp.get(\"General\",\"base_dir\") != self.base_dir:\n",
    "                #カレントディレクトリが違う場合初期起動と同じ処理をする\n",
    "                print(\"The directory has changed since the last boot. Reinitialize the settings.\")\n",
    "                self.cfg[\"a_idx\"] = self.elem_a_idx()\n",
    "                self.elem_set_ini()\n",
    "                self.elem_save_ini()\n",
    "            else:\n",
    "                #カレントディレクトリが変わっていなければ設定値をセット\n",
    "                self.elem_get_ini()\n",
    "        else:\n",
    "            #iniファイルが存在しない場合、オーディオインデックスを定義しセーブ\n",
    "            self.cfg[\"a_idx\"] = self.elem_a_idx()\n",
    "            self.elem_set_ini()\n",
    "            self.elem_save_ini()\n",
    "\n",
    "        #フォルダの生成\n",
    "        self.elem_gen_folder(self.cfg[\"data_dir\"])\n",
    "        self.elem_gen_folder(os.path.join(self.cfg[\"data_dir\"],\"ok\"))\n",
    "        self.elem_gen_folder(os.path.join(self.cfg[\"data_dir\"],\"ng\"))\n",
    "        self.elem_gen_folder(os.path.join(self.cfg[\"data_dir\"],\"valid\"))\n",
    "        self.elem_gen_folder(self.cfg[\"model_dir\"])\n",
    "        self.elem_gen_folder(self.cfg[\"log_dir\"])\n",
    "\n",
    "        return self.cfg\n"
   ]
  },
  {
   "cell_type": "code",
   "execution_count": 4,
   "metadata": {},
   "outputs": [
    {
     "output_type": "stream",
     "name": "stdout",
     "text": [
      "***List of available audio devices:***\n",
      "0 - Microsoft Sound Mapper - Input\n",
      "1 - デスクトップ マイク (Microsoft® LifeCam \n",
      "2 - マイク配列 (Realtek(R) Audio)\n",
      "3 - Microsoft Sound Mapper - Output\n",
      "4 - SHARP HDMI (インテル(R) ディスプレイ用オーディ\n",
      "5 - Speakers (Realtek HD Audio output)\n",
      "6 - マイク配列 1 (Realtek HD Audio Mic input with SST)\n",
      "7 - マイク配列 2 (Realtek HD Audio Mic input with SST)\n",
      "8 - マイク配列 3 (Realtek HD Audio Mic input with SST)\n",
      "9 - Output (インテル(R) ディスプレイ用オーディオ - 出力 1)\n",
      "10 - デスクトップ マイク (Microsoft® LifeCam HD-3000)\n",
      "11 - ヘッドホン ()\n",
      "12 - ヘッドホン ()\n",
      "13 - ヘッドセット (@System32\\drivers\\bthhfenum.sys,#2;%1 Hands-Free AG Audio%0\n",
      ";(pianist_dannaのAirPods Pro))\n",
      "14 - ヘッドセット (@System32\\drivers\\bthhfenum.sys,#2;%1 Hands-Free AG Audio%0\n",
      ";(pianist_dannaのAirPods Pro))\n",
      "15 - ヘッドセット (@System32\\drivers\\bthhfenum.sys,#2;%1 Hands-Free AG Audio%0\n",
      ";(JAMBOX by Jawbone))\n",
      "16 - ヘッドセット (@System32\\drivers\\bthhfenum.sys,#2;%1 Hands-Free AG Audio%0\n",
      ";(JAMBOX by Jawbone))\n",
      "17 - Output (@System32\\drivers\\bthhfenum.sys,#4;%1 Hands-Free HF Audio%0\n",
      ";(Xperia 10))\n",
      "18 - Input (@System32\\drivers\\bthhfenum.sys,#4;%1 Hands-Free HF Audio%0\n",
      ";(Xperia 10))\n",
      "19 - ライン ()\n",
      "***Selected audio device #1.***\n",
      "Saved setting parameters.\n",
      "Created a directory:.\\waves\n",
      "Created a directory:.\\waves\\ok\n",
      "Created a directory:.\\waves\\ng\n",
      "Created a directory:.\\waves\\valid\n",
      "Created a directory:.\\models\n",
      "Created a directory:.\\logs\n"
     ]
    }
   ],
   "source": [
    "Boot = init_boot(cfg)\n",
    "cfg = Boot.proc_boot()"
   ]
  },
  {
   "cell_type": "code",
   "execution_count": 5,
   "metadata": {},
   "outputs": [
    {
     "output_type": "execute_result",
     "data": {
      "text/plain": [
       "{'br': 8,\n",
       " 'sr': 22050,\n",
       " 'r_wait': 5,\n",
       " 'r_len': 3,\n",
       " 'a_idx': 1,\n",
       " 'disp_spg': False,\n",
       " 'axis_freq': None,\n",
       " 'axis_tme': None,\n",
       " 'aug_amt': 512,\n",
       " 'exp_ver': 0.999,\n",
       " 'model_pca': 'proto2021_094_PCAmodel.dat',\n",
       " 'model_keras': '.\\\\models\\\\keras',\n",
       " 'model_tf_keras': '.\\\\models\\\\tf_keras',\n",
       " 'data_dir': '.\\\\waves',\n",
       " 'model_dir': '.\\\\models',\n",
       " 'log_dir': '.\\\\logs'}"
      ]
     },
     "metadata": {},
     "execution_count": 5
    }
   ],
   "source": [
    "cfg"
   ]
  },
  {
   "source": [
    "初期設定の保存に成功\n",
    "\n",
    "---\n",
    "\n",
    "読み出しテスト"
   ],
   "cell_type": "markdown",
   "metadata": {}
  },
  {
   "cell_type": "code",
   "execution_count": 6,
   "metadata": {},
   "outputs": [],
   "source": [
    "del cfg,Boot,base_dir"
   ]
  },
  {
   "source": [
    "この間にセル1～3を再実行"
   ],
   "cell_type": "markdown",
   "metadata": {}
  },
  {
   "cell_type": "code",
   "execution_count": 10,
   "metadata": {},
   "outputs": [
    {
     "output_type": "stream",
     "name": "stdout",
     "text": [
      "Loded initial setting parameters.\n"
     ]
    }
   ],
   "source": [
    "Boot = init_boot(cfg)\n",
    "cfg = Boot.proc_boot()"
   ]
  },
  {
   "cell_type": "code",
   "execution_count": 11,
   "metadata": {},
   "outputs": [
    {
     "output_type": "execute_result",
     "data": {
      "text/plain": [
       "{'br': 8,\n",
       " 'sr': 22050,\n",
       " 'r_wait': 5,\n",
       " 'r_len': 3,\n",
       " 'a_idx': 1,\n",
       " 'disp_spg': False,\n",
       " 'axis_freq': None,\n",
       " 'axis_tme': None,\n",
       " 'aug_amt': 512,\n",
       " 'exp_ver': 0.999,\n",
       " 'model_pca': 'proto2021_094_PCAmodel.dat',\n",
       " 'model_keras': '.\\\\models\\\\keras',\n",
       " 'model_tf_keras': '.\\\\models\\\\tf_keras',\n",
       " 'data_dir': '.\\\\waves',\n",
       " 'model_dir': '.\\\\models',\n",
       " 'log_dir': '.\\\\logs'}"
      ]
     },
     "metadata": {},
     "execution_count": 11
    }
   ],
   "source": [
    "cfg"
   ]
  },
  {
   "source": [
    "---\n",
    "\n",
    "## わかったこと\n",
    "- 起動処理の呼び出し時の引数が辞書一つになるので記述が非常にすっきりする\n",
    "- クラス内も辞書のまま直接処理したほうが、変数への代入や辞書への書き戻し処理が必要ないためコード記述量が減り可読性も上がる\n",
    "- 辞書の特性上、キーにスペルミスがあると「ミスったままのキーと値」が追加されてしまう上、コーディング上IDEも効かないので注意が必要\n",
    "- 辞書は仕様上キーの位置は定まっていないが、表示錠は最初に定義した/追加した順で表示される"
   ],
   "cell_type": "markdown",
   "metadata": {}
  },
  {
   "cell_type": "code",
   "execution_count": null,
   "metadata": {},
   "outputs": [],
   "source": []
  }
 ]
}