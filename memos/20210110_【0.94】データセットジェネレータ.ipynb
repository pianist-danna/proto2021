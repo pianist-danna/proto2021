{
 "metadata": {
  "language_info": {
   "codemirror_mode": {
    "name": "ipython",
    "version": 3
   },
   "file_extension": ".py",
   "mimetype": "text/x-python",
   "name": "python",
   "nbconvert_exporter": "python",
   "pygments_lexer": "ipython3",
   "version": "3.7.9-final"
  },
  "orig_nbformat": 2,
  "kernelspec": {
   "name": "python3",
   "display_name": "Python 3",
   "language": "python"
  }
 },
 "nbformat": 4,
 "nbformat_minor": 2,
 "cells": [
  {
   "cell_type": "code",
   "execution_count": 4,
   "metadata": {},
   "outputs": [
    {
     "output_type": "stream",
     "name": "stdout",
     "text": [
      "C:\\Users\\amane\\OneDrive\\python\\proto2021\\bin\n"
     ]
    }
   ],
   "source": [
    "import numpy as np\n",
    "import os\n",
    "import re\n",
    "import random\n",
    "import copy\n",
    "\n",
    "os.chdir(\"C:\\\\Users\\\\amane\\\\OneDrive\\\\python\\\\proto2021\\\\bin\")\n",
    "print (os.getcwd())"
   ]
  },
  {
   "cell_type": "code",
   "execution_count": 5,
   "metadata": {},
   "outputs": [],
   "source": [
    "class Generator():\n",
    "    def __init__(self,dir,shuffle = True,batch_size = 32):\n",
    "        self.f_lists = np.arange(0)  #リストでなくNumpy配列として処理する\n",
    "        self.dir = dir\n",
    "        self.shuffle = shuffle\n",
    "        self.batch_size = batch_size\n",
    "\n",
    "    #リストの取得\n",
    "    def get_list(self):\n",
    "        for i in os.listdir(self.dir):\n",
    "            search_idx = re.search(\".wav\",i)\n",
    "            if search_idx:\n",
    "                self.f_lists = np.append(self.f_lists,i)\n",
    "\n",
    "    #シャッフル\n",
    "    def shuffle_list(self):\n",
    "        rng = np.random.default_rng()\n",
    "        rng.shuffle(self.f_lists)\n",
    "\n",
    "    #バッチサイズに合わせたリピート処理\n",
    "    def repeat_for_batch(self):\n",
    "        if len(self.f_lists) < self.batch_size:\n",
    "            self.f_lists = np.tile(self.f_lists,-(-self.batch_size // len(self.f_lists)))\n",
    "        else:\n",
    "            self.f_lists = np.tile(self.f_lists,2)\n",
    "        \n",
    "\n",
    "    #ファイルリストの出力\n",
    "    def proc_f_lists(self):\n",
    "        self.f_lists = np.arange(0)  #初期化\n",
    "        self.get_list()\n",
    "        self.repeat_for_batch()\n",
    "        if self.shuffle == True:\n",
    "            self.shuffle_list()\n",
    "\n",
    "        for i in range(len(self.f_lists)):\n",
    "            yield self.f_lists[i]\n",
    "\n",
    "    \"\"\"\n",
    "    この後、proc_genをインスタンス化し、出力されるファイルネームに対して\n",
    "    順次ファイルの読み出し→ノイズ追加→スペクトログラム化を行う\n",
    "    \"\"\""
   ]
  },
  {
   "cell_type": "code",
   "execution_count": 6,
   "metadata": {},
   "outputs": [
    {
     "output_type": "stream",
     "name": "stdout",
     "text": [
      "OK-3.wav\nOK-2.wav\nOK-1.wav\nOK-2.wav\nOK-1.wav\nOK-1.wav\nOK-2.wav\nOK-1.wav\nOK-3.wav\nOK-3.wav\nOK-2.wav\nOK-2.wav\nOK-3.wav\nOK-1.wav\nOK-3.wav\nOK-3.wav\nOK-2.wav\nOK-2.wav\nOK-1.wav\nOK-1.wav\nOK-2.wav\nOK-3.wav\nOK-2.wav\nOK-1.wav\nOK-2.wav\nOK-3.wav\nOK-1.wav\nOK-1.wav\nOK-3.wav\nOK-3.wav\nOK-3.wav\nOK-2.wav\nOK-1.wav\n"
     ]
    }
   ],
   "source": [
    "gnr = Generator(\".\\\\data\\\\waves\")\n",
    "gen = gnr.proc_f_lists()\n",
    "for i in gen:\n",
    "    print(i)\n",
    "del gen,gnr"
   ]
  },
  {
   "cell_type": "code",
   "execution_count": null,
   "metadata": {},
   "outputs": [],
   "source": []
  }
 ]
}